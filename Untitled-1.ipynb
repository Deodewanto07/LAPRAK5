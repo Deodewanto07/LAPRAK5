{
 "cells": [
  {
   "cell_type": "code",
   "execution_count": 8,
   "metadata": {},
   "outputs": [
    {
     "name": "stdout",
     "output_type": "stream",
     "text": [
      "6 x 5 = 6 + 6 + 6 + 6 + 6 = 30\n",
      "7 x 10 = 7 + 7 + 7 + 7 + 7 + 7 + 7 + 7 + 7 + 7 = 70\n"
     ]
    }
   ],
   "source": [
    "#LATIHAN 1\n",
    "def perkalian(angka1, angka2):\n",
    "    hasil = 0\n",
    "    for i in range(angka2):\n",
    "        hasil += angka1\n",
    "    return hasil\n",
    "\n",
    "a = 6\n",
    "b = 5\n",
    "hasil_perkalian = perkalian(a, b)\n",
    "print(f\"{a} x {b} = {' + '.join([str(a) for i in range(b)])} = {hasil_perkalian}\")\n",
    "\n",
    "a = 7\n",
    "b = 10\n",
    "hasil_perkalian = perkalian(a, b)\n",
    "print(f\"{a} x {b} = {' + '.join([str(a) for i in range(b)])} = {hasil_perkalian}\")\n",
    "\n"
   ]
  },
  {
   "cell_type": "code",
   "execution_count": 14,
   "metadata": {},
   "outputs": [
    {
     "name": "stdout",
     "output_type": "stream",
     "text": [
      "Deret bilangan ganjil:\n",
      "11 13 15 17 19 21 23 25 27 29 "
     ]
    }
   ],
   "source": [
    "#LATIHAN 2 \n",
    "def ganjil(bawah, atas):\n",
    "    if bawah < atas:\n",
    "        for i in range(bawah, atas + 1):\n",
    "            if i % 2 != 0:\n",
    "                print(i, end=' ')\n",
    "    else:\n",
    "        for i in range(bawah, atas - 1, -1):\n",
    "            if i % 2 != 0:\n",
    "                print(i, end=' ')\n",
    "\n",
    "bawah = int(input(\"Masukkan batas bawah: \"))\n",
    "atas = int(input(\"Masukkan batas atas: \"))\n",
    "\n",
    "print(\"Deret bilangan ganjil:\")\n",
    "ganjil(bawah, atas)"
   ]
  },
  {
   "cell_type": "code",
   "execution_count": 7,
   "metadata": {},
   "outputs": [
    {
     "name": "stdout",
     "output_type": "stream",
     "text": [
      "Nilai IPS Anda semester ini: 4.00\n"
     ]
    }
   ],
   "source": [
    "#LATIHAN 3\n",
    "\n",
    "def hitung_ips(jumlah_mata_kuliah):\n",
    "    total_sks = jumlah_mata_kuliah * 3\n",
    "    total_bobot = 0\n",
    "\n",
    "    for i in range(1, jumlah_mata_kuliah + 1):\n",
    "        nilai = input(f'Nilai MK {i} : ')\n",
    "\n",
    "        if nilai == 'A':\n",
    "            bobot = 4\n",
    "        elif nilai == 'B':\n",
    "            bobot = 3\n",
    "        elif nilai == 'C':\n",
    "            bobot = 2\n",
    "        elif nilai == 'D':\n",
    "            bobot = 1\n",
    "        else:\n",
    "            print('Nilai tidak valid. Mohon input A, B, C, atau D.')\n",
    "            return\n",
    "\n",
    "        total_bobot += bobot * 3\n",
    "\n",
    "    ips = total_bobot / total_sks\n",
    "    return ips\n",
    "\n",
    "# Input jumlah mata kuliah\n",
    "jumlah_mata_kuliah = int(input('Berapa jumlah mata kuliah? '))\n",
    "\n",
    "# Hitung IPS\n",
    "hasil_ips = hitung_ips(jumlah_mata_kuliah)\n",
    "\n",
    "# Output hasil IPS\n",
    "print(f'Nilai IPS Anda semester ini: {hasil_ips:.2f}')"
   ]
  }
 ],
 "metadata": {
  "kernelspec": {
   "display_name": "Python 3",
   "language": "python",
   "name": "python3"
  },
  "language_info": {
   "codemirror_mode": {
    "name": "ipython",
    "version": 3
   },
   "file_extension": ".py",
   "mimetype": "text/x-python",
   "name": "python",
   "nbconvert_exporter": "python",
   "pygments_lexer": "ipython3",
   "version": "3.12.2"
  },
  "orig_nbformat": 4
 },
 "nbformat": 4,
 "nbformat_minor": 2
}
